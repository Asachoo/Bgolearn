{
 "cells": [
  {
   "cell_type": "code",
   "execution_count": 3,
   "id": "65d0b5a6",
   "metadata": {},
   "outputs": [
    {
     "name": "stdout",
     "output_type": "stream",
     "text": [
      "A Bayesian global optimization package\n",
      "Bgolearn, Bin CAO, HKUST(GZ)\n",
      "Intro : https://bgolearn.netlify.app/\n",
      "URL : https://github.com/Bin-Cao/Bgolearn\n",
      "Executed on : 2023-08-17 16:16:41  | Have a great day.\n",
      "\n",
      "██████╗  ██████╗  ██████╗ \n",
      "██╔══██╗██╔════╝ ██╔═══██╗\n",
      "██████╔╝██║  ███╗██║   ██║\n",
      "██╔══██╗██║   ██║██║   ██║\n",
      "██████╔╝╚██████╔╝╚██████╔╝\n",
      "╚═════╝  ╚═════╝  ╚═════╝ \n",
      "\n",
      "================================================================================\n",
      "The internal model is instantiated with optimized homogenous noise\n",
      "current optimal is : 20.72380529\n",
      "The next datum recomended by Expected Improvement : \n",
      " x =  [ 71 300]\n"
     ]
    },
    {
     "data": {
      "text/plain": [
       "(array([0., 0., 0., 0., 0., 0., 0., 0., 0., 0., 0., 0., 0., 0., 0., 0., 0.,\n",
       "        0., 0., 0., 0., 0., 0., 0., 0., 0., 0., 0., 0., 0., 0., 0., 0., 0.,\n",
       "        0., 0., 0., 0., 0., 0., 0., 0., 0., 0., 0., 0., 0., 0., 0., 0., 0.,\n",
       "        0., 0., 0., 0., 0., 0., 0., 0., 0., 0., 0., 0., 0., 0., 0., 0., 0.,\n",
       "        0., 0., 0., 0., 0., 0., 0., 0., 0., 0., 0., 0., 0., 0., 0., 0., 0.,\n",
       "        0., 0., 0., 0., 0., 0., 0., 0., 0., 0., 0., 0., 0., 0., 0.]),\n",
       " array([[ 71, 300]]))"
      ]
     },
     "execution_count": 3,
     "metadata": {},
     "output_type": "execute_result"
    }
   ],
   "source": [
    "import Bgolearn.BGOsampling as BGOS\n",
    "import pandas as pd\n",
    "\n",
    "data = pd.read_csv('TrainingData.csv')\n",
    "x = data.iloc[:,:-1]\n",
    "y = data.iloc[:,-1]\n",
    "\n",
    "dd = pd.read_csv('DesignData.csv') \n",
    "\n",
    "Bgolearn = BGOS.Bgolearn()\n",
    "\n",
    "Mymodel = Bgolearn.fit(data_matrix = x, Measured_response = y, virtual_samples = dd)\n",
    "\n",
    "Mymodel.EI()"
   ]
  },
  {
   "cell_type": "code",
   "execution_count": null,
   "id": "f3f132c4",
   "metadata": {},
   "outputs": [],
   "source": []
  }
 ],
 "metadata": {
  "kernelspec": {
   "display_name": "Python 3 (ipykernel)",
   "language": "python",
   "name": "python3"
  },
  "language_info": {
   "codemirror_mode": {
    "name": "ipython",
    "version": 3
   },
   "file_extension": ".py",
   "mimetype": "text/x-python",
   "name": "python",
   "nbconvert_exporter": "python",
   "pygments_lexer": "ipython3",
   "version": "3.9.12"
  }
 },
 "nbformat": 4,
 "nbformat_minor": 5
}
